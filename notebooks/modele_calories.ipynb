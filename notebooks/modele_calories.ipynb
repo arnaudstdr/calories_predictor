{
 "cells": [
  {
   "cell_type": "markdown",
   "metadata": {},
   "source": [
    "# Entraînement des modèles de régression (LinearRegression et RandomForestRegressor)\n",
    "\n",
    "## Tables des matières\n",
    "\n",
    "### 1. Import des librairies\n",
    "Import des bibliothèques nécessaires pour la modélisation, l'évaluation et la sauvegarde du modèle"
   ]
  },
  {
   "cell_type": "code",
   "execution_count": 1,
   "metadata": {},
   "outputs": [],
   "source": [
    "import pandas as pd\n",
    "import numpy as np\n",
    "from sklearn.model_selection import train_test_split\n",
    "from sklearn.linear_model import LinearRegression\n",
    "from sklearn.ensemble import RandomForestRegressor\n",
    "from sklearn.metrics import mean_absolute_error, mean_squared_error\n",
    "import joblib\n",
    "import matplotlib.pyplot as plt"
   ]
  },
  {
   "cell_type": "markdown",
   "metadata": {},
   "source": [
    "### 2. Chargement des données\n",
    "Chargement du dataset synthétique généré précédemment"
   ]
  },
  {
   "cell_type": "code",
   "execution_count": 2,
   "metadata": {},
   "outputs": [
    {
     "data": {
      "text/html": [
       "<div>\n",
       "<style scoped>\n",
       "    .dataframe tbody tr th:only-of-type {\n",
       "        vertical-align: middle;\n",
       "    }\n",
       "\n",
       "    .dataframe tbody tr th {\n",
       "        vertical-align: top;\n",
       "    }\n",
       "\n",
       "    .dataframe thead th {\n",
       "        text-align: right;\n",
       "    }\n",
       "</style>\n",
       "<table border=\"1\" class=\"dataframe\">\n",
       "  <thead>\n",
       "    <tr style=\"text-align: right;\">\n",
       "      <th></th>\n",
       "      <th>poids_kg</th>\n",
       "      <th>duree_min</th>\n",
       "      <th>vitesse_moyenne</th>\n",
       "      <th>distance_km</th>\n",
       "      <th>intensite</th>\n",
       "      <th>age</th>\n",
       "      <th>fc_max</th>\n",
       "      <th>fc_moyenne</th>\n",
       "      <th>calories_brulees</th>\n",
       "    </tr>\n",
       "  </thead>\n",
       "  <tbody>\n",
       "    <tr>\n",
       "      <th>0</th>\n",
       "      <td>79.967142</td>\n",
       "      <td>126.887586</td>\n",
       "      <td>20.200860</td>\n",
       "      <td>42.720639</td>\n",
       "      <td>endurance</td>\n",
       "      <td>24</td>\n",
       "      <td>196</td>\n",
       "      <td>135.273769</td>\n",
       "      <td>1546.232855</td>\n",
       "    </tr>\n",
       "    <tr>\n",
       "      <th>1</th>\n",
       "      <td>73.617357</td>\n",
       "      <td>115.616746</td>\n",
       "      <td>29.875255</td>\n",
       "      <td>57.567997</td>\n",
       "      <td>cool</td>\n",
       "      <td>30</td>\n",
       "      <td>190</td>\n",
       "      <td>112.595584</td>\n",
       "      <td>1012.082708</td>\n",
       "    </tr>\n",
       "    <tr>\n",
       "      <th>2</th>\n",
       "      <td>81.476885</td>\n",
       "      <td>83.414509</td>\n",
       "      <td>27.351612</td>\n",
       "      <td>38.025354</td>\n",
       "      <td>rythme</td>\n",
       "      <td>25</td>\n",
       "      <td>195</td>\n",
       "      <td>137.876322</td>\n",
       "      <td>1059.216261</td>\n",
       "    </tr>\n",
       "    <tr>\n",
       "      <th>3</th>\n",
       "      <td>90.230299</td>\n",
       "      <td>177.977287</td>\n",
       "      <td>15.720811</td>\n",
       "      <td>46.632455</td>\n",
       "      <td>endurance</td>\n",
       "      <td>39</td>\n",
       "      <td>181</td>\n",
       "      <td>119.857877</td>\n",
       "      <td>1970.576011</td>\n",
       "    </tr>\n",
       "    <tr>\n",
       "      <th>4</th>\n",
       "      <td>72.658466</td>\n",
       "      <td>120.866223</td>\n",
       "      <td>30.483767</td>\n",
       "      <td>61.407630</td>\n",
       "      <td>endurance</td>\n",
       "      <td>57</td>\n",
       "      <td>163</td>\n",
       "      <td>114.115911</td>\n",
       "      <td>1237.556632</td>\n",
       "    </tr>\n",
       "  </tbody>\n",
       "</table>\n",
       "</div>"
      ],
      "text/plain": [
       "    poids_kg   duree_min  vitesse_moyenne  distance_km  intensite  age  \\\n",
       "0  79.967142  126.887586        20.200860    42.720639  endurance   24   \n",
       "1  73.617357  115.616746        29.875255    57.567997       cool   30   \n",
       "2  81.476885   83.414509        27.351612    38.025354     rythme   25   \n",
       "3  90.230299  177.977287        15.720811    46.632455  endurance   39   \n",
       "4  72.658466  120.866223        30.483767    61.407630  endurance   57   \n",
       "\n",
       "   fc_max  fc_moyenne  calories_brulees  \n",
       "0     196  135.273769       1546.232855  \n",
       "1     190  112.595584       1012.082708  \n",
       "2     195  137.876322       1059.216261  \n",
       "3     181  119.857877       1970.576011  \n",
       "4     163  114.115911       1237.556632  "
      ]
     },
     "execution_count": 2,
     "metadata": {},
     "output_type": "execute_result"
    }
   ],
   "source": [
    "df = pd.read_csv(\"../data/dataset_synthetique_calories.csv\")\n",
    "df.head()"
   ]
  },
  {
   "cell_type": "markdown",
   "metadata": {},
   "source": [
    "### 3. Préparation des features et de la cible\n",
    "Définition des variables explicatives (features) et de la varaible cible (calories brûlées)"
   ]
  },
  {
   "cell_type": "code",
   "execution_count": 3,
   "metadata": {},
   "outputs": [],
   "source": [
    "X = df[['poids_kg', 'duree_min', 'vitesse_moyenne', 'distance_km', 'fc_moyenne']]\n",
    "y = df['calories_brulees']"
   ]
  },
  {
   "cell_type": "markdown",
   "metadata": {},
   "source": [
    "### 4. Séparation des données en train/test\n",
    "Division du dataset en ensemble d'entraînement et de test (80% / 20%)"
   ]
  },
  {
   "cell_type": "code",
   "execution_count": 4,
   "metadata": {},
   "outputs": [],
   "source": [
    "X_train, X_test, y_train, y_test = train_test_split(X, y, test_size=0.2, random_state=42)"
   ]
  },
  {
   "cell_type": "markdown",
   "metadata": {},
   "source": [
    "### 5. Modèle de régression linéaire\n",
    "\n",
    "#### 5.1.1. Entraînement d'un modèle de régression linéaire simple"
   ]
  },
  {
   "cell_type": "code",
   "execution_count": 5,
   "metadata": {},
   "outputs": [],
   "source": [
    "lr = LinearRegression()\n",
    "lr.fit(X_train, y_train)\n",
    "\n",
    "# Prédiction sur l'ensemble de test\n",
    "y_pred_lr = lr.predict(X_test)"
   ]
  },
  {
   "cell_type": "markdown",
   "metadata": {},
   "source": [
    "#### 5.1.2. Évaluation du modèle linéaire\n",
    "Calcul des métriques d'erreur du modèle linéaire"
   ]
  },
  {
   "cell_type": "code",
   "execution_count": 6,
   "metadata": {},
   "outputs": [
    {
     "name": "stdout",
     "output_type": "stream",
     "text": [
      "Linear Regression - MAE :  153.5585465116862\n",
      "Linear Regression - RMSE :  191.98006969906444\n"
     ]
    }
   ],
   "source": [
    "print(\"Linear Regression - MAE : \", mean_absolute_error(y_test, y_pred_lr))\n",
    "print(\"Linear Regression - RMSE : \", np.sqrt(mean_squared_error(y_test, y_pred_lr)))"
   ]
  },
  {
   "cell_type": "markdown",
   "metadata": {},
   "source": [
    "#### 5.2.1. Modèle Random Forest\n",
    "Entraînement d'un modèle de forêt aléatoire (plus performant sur données non linéaires)"
   ]
  },
  {
   "cell_type": "code",
   "execution_count": 7,
   "metadata": {},
   "outputs": [],
   "source": [
    "rf = RandomForestRegressor(n_estimators=100, random_state=42)\n",
    "rf.fit(X_train, y_train)\n",
    "\n",
    "# Prédiction sur l'ensemble de test\n",
    "y_pred_rf = rf.predict(X_test)"
   ]
  },
  {
   "cell_type": "markdown",
   "metadata": {},
   "source": [
    "#### 5.2.2. Évaluation du modèle Random Forest\n",
    "Évaluation des performances de la forêt aléatoire"
   ]
  },
  {
   "cell_type": "code",
   "execution_count": 8,
   "metadata": {},
   "outputs": [
    {
     "name": "stdout",
     "output_type": "stream",
     "text": [
      "Random Forest - MAE :  75.93681395049575\n",
      "Random Forest - RMSE :  100.18649897310694\n"
     ]
    }
   ],
   "source": [
    "print(\"Random Forest - MAE : \", mean_absolute_error(y_test, y_pred_rf))\n",
    "print(\"Random Forest - RMSE : \", np.sqrt(mean_squared_error(y_test, y_pred_rf)))"
   ]
  },
  {
   "cell_type": "code",
   "execution_count": 9,
   "metadata": {},
   "outputs": [
    {
     "name": "stdout",
     "output_type": "stream",
     "text": [
      "Train MAE : 31.019807205765357\n",
      "Test MAE  : 75.93681395049575\n"
     ]
    }
   ],
   "source": [
    "y_train_pred = rf.predict(X_train)\n",
    "print(\"Train MAE :\", mean_absolute_error(y_train, y_train_pred))\n",
    "print(\"Test MAE  :\", mean_absolute_error(y_test, y_pred_rf))"
   ]
  },
  {
   "cell_type": "markdown",
   "metadata": {},
   "source": [
    "Les erreurs sont divisé par 2 avec la Random Forest."
   ]
  },
  {
   "cell_type": "markdown",
   "metadata": {},
   "source": [
    "### 6. Visualisation des prédictions vs réel\n",
    "Visualisation de la corrélation enntre les valeurs prédictes et réelles"
   ]
  },
  {
   "cell_type": "code",
   "execution_count": 10,
   "metadata": {},
   "outputs": [
    {
     "data": {
      "image/png": "[encoded data removed]",
      "text/plain": [
       "<Figure size 600x600 with 1 Axes>"
      ]
     },
     "metadata": {},
     "output_type": "display_data"
    }
   ],
   "source": [
    "plt.figure(figsize=(6, 6))\n",
    "plt.scatter(y_test, y_pred_rf, alpha=0.5)\n",
    "plt.plot([y.min(), y.max()], [y.min(), y.max()], 'k--')\n",
    "plt.xlabel(\"Valeurs réelles\")\n",
    "plt.ylabel(\"Prédictiopns\")\n",
    "plt.title(\"Prédictions Random Forest vs Réalité\")\n",
    "plt.grid(True)\n",
    "plt.show()"
   ]
  },
  {
   "cell_type": "markdown",
   "metadata": {},
   "source": [
    "- **La courbe scatter** montre que les points sont bien alignés sur la diagonale -> le modèle **généralise bien**, sans oberfit apparent.\n",
    "- Il y a une légère dispersion au-delà de 2200 kcal, **ce qui est normal** : les très longues sorties sont plus rares."
   ]
  },
  {
   "cell_type": "markdown",
   "metadata": {},
   "source": [
    "### 7. Sauvegarde du modèle entraîné\n",
    "Sauvegarde du modèle entraîné pour un futur usage dans une app web"
   ]
  },
  {
   "cell_type": "code",
   "execution_count": 11,
   "metadata": {},
   "outputs": [
    {
     "data": {
      "text/plain": [
       "['../app/model_calories.pkl']"
      ]
     },
     "execution_count": 11,
     "metadata": {},
     "output_type": "execute_result"
    }
   ],
   "source": [
    "joblib.dump(rf, \"../app/model_calories.pkl\") "
   ]
  }
 ],
 "metadata": {
  "kernelspec": {
   "display_name": "calories_ml",
   "language": "python",
   "name": "python3"
  },
  "language_info": {
   "codemirror_mode": {
    "name": "ipython",
    "version": 3
   },
   "file_extension": ".py",
   "mimetype": "text/x-python",
   "name": "python",
   "nbconvert_exporter": "python",
   "pygments_lexer": "ipython3",
   "version": "3.10.16"
  }
 },
 "nbformat": 4,
 "nbformat_minor": 2
}
