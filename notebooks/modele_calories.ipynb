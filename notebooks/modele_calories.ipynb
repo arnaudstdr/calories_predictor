{
 "cells": [
  {
   "cell_type": "markdown",
   "metadata": {},
   "source": [
    "# Entraînement des modèles de régression (LinearRegression et RandomForestRegressor)\n",
    "\n",
    "## Tables des matières\n",
    "\n",
    "### 1. Import des librairies\n",
    "Import des bibliothèques nécessaires pour la modélisation, l'évaluation et la sauvegarde du modèle"
   ]
  },
  {
   "cell_type": "code",
   "execution_count": 2,
   "metadata": {},
   "outputs": [],
   "source": [
    "import pandas as pd\n",
    "import numpy as np\n",
    "from sklearn.model_selection import train_test_split\n",
    "from sklearn.linear_model import LinearRegression\n",
    "from sklearn.ensemble import RandomForestRegressor\n",
    "from sklearn.metrics import mean_absolute_error, mean_squared_error\n",
    "import joblib\n",
    "import matplotlib.pyplot as plt"
   ]
  },
  {
   "cell_type": "markdown",
   "metadata": {},
   "source": [
    "### 2. Chargement des données\n",
    "Chargement du dataset synthétique généré précédemment"
   ]
  },
  {
   "cell_type": "code",
   "execution_count": 3,
   "metadata": {},
   "outputs": [
    {
     "data": {
      "text/html": [
       "<div>\n",
       "<style scoped>\n",
       "    .dataframe tbody tr th:only-of-type {\n",
       "        vertical-align: middle;\n",
       "    }\n",
       "\n",
       "    .dataframe tbody tr th {\n",
       "        vertical-align: top;\n",
       "    }\n",
       "\n",
       "    .dataframe thead th {\n",
       "        text-align: right;\n",
       "    }\n",
       "</style>\n",
       "<table border=\"1\" class=\"dataframe\">\n",
       "  <thead>\n",
       "    <tr style=\"text-align: right;\">\n",
       "      <th></th>\n",
       "      <th>poids_kg</th>\n",
       "      <th>duree_min</th>\n",
       "      <th>vitesse_moyenne</th>\n",
       "      <th>distance_km</th>\n",
       "      <th>intensite</th>\n",
       "      <th>met</th>\n",
       "      <th>calories_brulees</th>\n",
       "    </tr>\n",
       "  </thead>\n",
       "  <tbody>\n",
       "    <tr>\n",
       "      <th>0</th>\n",
       "      <td>79.967142</td>\n",
       "      <td>126.887586</td>\n",
       "      <td>27.498186</td>\n",
       "      <td>58.152973</td>\n",
       "      <td>endurance</td>\n",
       "      <td>6.8</td>\n",
       "      <td>1149.974924</td>\n",
       "    </tr>\n",
       "    <tr>\n",
       "      <th>1</th>\n",
       "      <td>73.617357</td>\n",
       "      <td>115.616746</td>\n",
       "      <td>18.518120</td>\n",
       "      <td>35.683414</td>\n",
       "      <td>cool</td>\n",
       "      <td>4.0</td>\n",
       "      <td>567.426616</td>\n",
       "    </tr>\n",
       "    <tr>\n",
       "      <th>2</th>\n",
       "      <td>81.476885</td>\n",
       "      <td>83.414509</td>\n",
       "      <td>30.747099</td>\n",
       "      <td>42.745902</td>\n",
       "      <td>rythme</td>\n",
       "      <td>8.0</td>\n",
       "      <td>906.180584</td>\n",
       "    </tr>\n",
       "    <tr>\n",
       "      <th>3</th>\n",
       "      <td>90.230299</td>\n",
       "      <td>177.977287</td>\n",
       "      <td>23.495480</td>\n",
       "      <td>69.694363</td>\n",
       "      <td>endurance</td>\n",
       "      <td>6.8</td>\n",
       "      <td>1820.013628</td>\n",
       "    </tr>\n",
       "    <tr>\n",
       "      <th>4</th>\n",
       "      <td>72.658466</td>\n",
       "      <td>120.866223</td>\n",
       "      <td>23.623384</td>\n",
       "      <td>47.587820</td>\n",
       "      <td>endurance</td>\n",
       "      <td>6.8</td>\n",
       "      <td>995.288163</td>\n",
       "    </tr>\n",
       "  </tbody>\n",
       "</table>\n",
       "</div>"
      ],
      "text/plain": [
       "    poids_kg   duree_min  vitesse_moyenne  distance_km  intensite  met  \\\n",
       "0  79.967142  126.887586        27.498186    58.152973  endurance  6.8   \n",
       "1  73.617357  115.616746        18.518120    35.683414       cool  4.0   \n",
       "2  81.476885   83.414509        30.747099    42.745902     rythme  8.0   \n",
       "3  90.230299  177.977287        23.495480    69.694363  endurance  6.8   \n",
       "4  72.658466  120.866223        23.623384    47.587820  endurance  6.8   \n",
       "\n",
       "   calories_brulees  \n",
       "0       1149.974924  \n",
       "1        567.426616  \n",
       "2        906.180584  \n",
       "3       1820.013628  \n",
       "4        995.288163  "
      ]
     },
     "execution_count": 3,
     "metadata": {},
     "output_type": "execute_result"
    }
   ],
   "source": [
    "df = pd.read_csv(\"../data/dataset_synthetique_calories.csv\")\n",
    "df.head()"
   ]
  },
  {
   "cell_type": "markdown",
   "metadata": {},
   "source": [
    "### 3. Préparation des features et de la cible\n",
    "Définition des variables explicatives (features) et de la varaible cible (calories brûlées)"
   ]
  },
  {
   "cell_type": "code",
   "execution_count": 4,
   "metadata": {},
   "outputs": [],
   "source": [
    "X = df[['poids_kg', 'duree_min', 'vitesse_moyenne', 'distance_km', 'met']]\n",
    "y = df['calories_brulees']"
   ]
  },
  {
   "cell_type": "markdown",
   "metadata": {},
   "source": [
    "### 4. Séparation des données en train/test\n",
    "Division du dataset en ensemble d'entraînement et de test (80% / 20%)"
   ]
  },
  {
   "cell_type": "code",
   "execution_count": 5,
   "metadata": {},
   "outputs": [],
   "source": [
    "X_train, X_test, y_train, y_test = train_test_split(X, y, test_size=0.2, random_state=42)"
   ]
  },
  {
   "cell_type": "markdown",
   "metadata": {},
   "source": [
    "### 5. Modèle de régression linéaire\n",
    "\n",
    "#### 5.1.1. Entraînement d'un modèle de régression linéaire simple"
   ]
  },
  {
   "cell_type": "code",
   "execution_count": 6,
   "metadata": {},
   "outputs": [],
   "source": [
    "lr = LinearRegression()\n",
    "lr.fit(X_train, y_train)\n",
    "\n",
    "# Prédiction sur l'ensemble de test\n",
    "y_pred_lr = lr.predict(X_test)"
   ]
  },
  {
   "cell_type": "markdown",
   "metadata": {},
   "source": [
    "#### 5.1.2. Évaluation du modèle linéaire\n",
    "Calcul des métriques d'erreur du modèle linéaire"
   ]
  },
  {
   "cell_type": "code",
   "execution_count": 7,
   "metadata": {},
   "outputs": [
    {
     "name": "stdout",
     "output_type": "stream",
     "text": [
      "Linear Regression - MAE :  127.57398229788741\n",
      "Linear Regression - RMSE :  167.22786434390773\n"
     ]
    }
   ],
   "source": [
    "print(\"Linear Regression - MAE : \", mean_absolute_error(y_test, y_pred_lr))\n",
    "print(\"Linear Regression - RMSE : \", np.sqrt(mean_squared_error(y_test, y_pred_lr)))"
   ]
  },
  {
   "cell_type": "markdown",
   "metadata": {},
   "source": [
    "#### 5.2.1. Modèle Random Forest\n",
    "Entraînement d'un modèle de forêt aléatoire (plus performant sur données non linéaires)"
   ]
  },
  {
   "cell_type": "code",
   "execution_count": 8,
   "metadata": {},
   "outputs": [],
   "source": [
    "rf = RandomForestRegressor(n_estimators=100, random_state=42)\n",
    "rf.fit(X_train, y_train)\n",
    "\n",
    "# Prédiction sur l'ensemble de test\n",
    "y_pred_rf = rf.predict(X_test)"
   ]
  },
  {
   "cell_type": "markdown",
   "metadata": {},
   "source": [
    "#### 5.2.2. Évaluation du modèle Random Forest\n",
    "Évaluation des performances de la forêt aléatoire"
   ]
  },
  {
   "cell_type": "code",
   "execution_count": 9,
   "metadata": {},
   "outputs": [
    {
     "name": "stdout",
     "output_type": "stream",
     "text": [
      "Random Forest - MAE :  60.879906871756475\n",
      "Random Forest - RMSE :  83.56045621786981\n"
     ]
    }
   ],
   "source": [
    "print(\"Random Forest - MAE : \", mean_absolute_error(y_test, y_pred_rf))\n",
    "print(\"Random Forest - RMSE : \", np.sqrt(mean_squared_error(y_test, y_pred_rf)))"
   ]
  },
  {
   "cell_type": "markdown",
   "metadata": {},
   "source": [
    "Les erreurs sont divisé par 2 avec la Random Forest."
   ]
  },
  {
   "cell_type": "markdown",
   "metadata": {},
   "source": [
    "### 6. Visualisation des prédictions vs réel\n",
    "Visualisation de la corrélation enntre les valeurs prédictes et réelles"
   ]
  },
  {
   "cell_type": "code",
   "execution_count": 11,
   "metadata": {},
   "outputs": [
    {
     "data": {
      "image/png": "[encoded data removed]",
      "text/plain": [
       "<Figure size 600x600 with 1 Axes>"
      ]
     },
     "metadata": {},
     "output_type": "display_data"
    }
   ],
   "source": [
    "plt.figure(figsize=(6, 6))\n",
    "plt.scatter(y_test, y_pred_rf, alpha=0.5)\n",
    "plt.plot([y.min(), y.max()], [y.min(), y.max()], 'k--')\n",
    "plt.xlabel(\"Valeurs réelles\")\n",
    "plt.ylabel(\"Prédictiopns\")\n",
    "plt.title(\"Prédictions Random Forest vs Réalité\")\n",
    "plt.grid(True)\n",
    "plt.show()"
   ]
  },
  {
   "cell_type": "markdown",
   "metadata": {},
   "source": [
    "- **La courbe scatter** montre que les points sont bien alignés sur la diagonale -> le modèle **généralise bien**, sans oberfit apparent.\n",
    "- Il y a une légère dispersion au-delà de 2200 kcal, **ce qui est normal** : les très longues sorties sont plus rares."
   ]
  },
  {
   "cell_type": "markdown",
   "metadata": {},
   "source": [
    "### 7. Sauvegarde du modèle entraîné\n",
    "Sauvegarde du modèle entraîné pour un futur usage dans une app web"
   ]
  },
  {
   "cell_type": "code",
   "execution_count": 12,
   "metadata": {},
   "outputs": [
    {
     "data": {
      "text/plain": [
       "['../app/model_calories.pkl']"
      ]
     },
     "execution_count": 12,
     "metadata": {},
     "output_type": "execute_result"
    }
   ],
   "source": [
    "joblib.dump(rf, \"../app/model_calories.pkl\") "
   ]
  }
 ],
 "metadata": {
  "kernelspec": {
   "display_name": "calories_ml",
   "language": "python",
   "name": "python3"
  },
  "language_info": {
   "codemirror_mode": {
    "name": "ipython",
    "version": 3
   },
   "file_extension": ".py",
   "mimetype": "text/x-python",
   "name": "python",
   "nbconvert_exporter": "python",
   "pygments_lexer": "ipython3",
   "version": "3.10.16"
  }
 },
 "nbformat": 4,
 "nbformat_minor": 2
}
