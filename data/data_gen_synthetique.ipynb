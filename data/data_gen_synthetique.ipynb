{
 "cells": [
  {
   "cell_type": "markdown",
   "metadata": {},
   "source": [
    "### 1. Configuration initiale\n",
    "\n",
    "On commence par importer les bibliothèques nécessaire et fixer une graine aléatoire pour assurer la reproductibilité des résultats"
   ]
  },
  {
   "cell_type": "code",
   "execution_count": null,
   "metadata": {},
   "outputs": [],
   "source": [
    "import numpy as np\n",
    "import pandas as pd\n",
    "import matplotlib.pyplot as plt\n",
    "import seaborn as sns\n",
    "\n",
    "np.random.seed(42)"
   ]
  },
  {
   "cell_type": "markdown",
   "metadata": {},
   "source": [
    "### 2. Définition des intensités\n",
    "Dictionnaire qui définit les différents niveaux d'intensité avec leurs valeurs MET (Metabolic Equivalent of Task) correspondates. Plus la valeur MET est élevée, plus l'activité est intense."
   ]
  },
  {
   "cell_type": "code",
   "execution_count": null,
   "metadata": {},
   "outputs": [],
   "source": [
    "intensites = {\n",
    "    'cool': 4.0,\n",
    "    'endurance': 6.8,\n",
    "    'rythme': 8.0,\n",
    "    'rapide': 10.0,\n",
    "    'competition': 12.0\n",
    "}"
   ]
  },
  {
   "cell_type": "markdown",
   "metadata": {},
   "source": [
    "### 3. Génération des données\n",
    "On génère 500 enregistrments avec :\n",
    "- Des poids suivant une distribution normale (moyenne 75kg, écart-type 10)\n",
    "- Des durées d'exercice uniformément réparties entre 30 et 180 minutes.\n",
    "- Des intensités choisis aléatoirement parmi les niveaux définis."
   ]
  },
  {
   "cell_type": "code",
   "execution_count": null,
   "metadata": {},
   "outputs": [],
   "source": [
    "n = 500\n",
    "poids = np.random.normal(75, 10, n).clip(50, 100)\n",
    "duree_min = np.random.uniform(30, 180, n)\n",
    "intensite = np.random.choice(list(intensites.keys()), n)\n",
    "met = np.array([intensites[i] for i in intensite])"
   ]
  },
  {
   "cell_type": "markdown",
   "metadata": {},
   "source": [
    "### 4. calculs dérivés\n",
    "On calcule :\n",
    "- La durée en heures\n",
    "- Les calories brûlées (formule : MET x poids x durée en heures)\n",
    "- Une vitresse moyenne suivant une distribution normale\n",
    "- La distance parcourue"
   ]
  },
  {
   "cell_type": "code",
   "execution_count": null,
   "metadata": {},
   "outputs": [],
   "source": [
    "duree_h = duree_min / 60\n",
    "calories = met * poids * duree_h\n",
    "vitesse_moy = np.random.normal(25, 5, n).clip(15, 40)\n",
    "distance_km = vitesse_moy * (duree_min / 60)"
   ]
  },
  {
   "cell_type": "markdown",
   "metadata": {},
   "source": [
    "### 5. Création et sauvegarde du DataFrame\n",
    "Les données sont organisées dans un DataFrame pandas et sauvegardées dans un fichier CSV."
   ]
  },
  {
   "cell_type": "code",
   "execution_count": null,
   "metadata": {},
   "outputs": [],
   "source": [
    "df = pd.DataFrame({\n",
    "    'poids_kg': poids,\n",
    "    'duree_min': duree_min,\n",
    "    'vitesse_moyenne': vitesse_moy,\n",
    "    'distance_km': distance_km,\n",
    "    'intensite': intensite,\n",
    "    'met': met,\n",
    "    'calories_brulees': calories\n",
    "})\n",
    "\n",
    "df.to_csv(\"../data/dataset_synthetique_calories.csv\", index=False)"
   ]
  },
  {
   "cell_type": "markdown",
   "metadata": {},
   "source": [
    "### 6. Visualisations\n",
    "On termine par deux visualisations :\n",
    "- Un pairplot montrant les relations entre les variables numériques\n",
    "- Une heatmap des corrélations entre les variables"
   ]
  },
  {
   "cell_type": "code",
   "execution_count": null,
   "metadata": {},
   "outputs": [],
   "source": [
    "print(df.head())\n",
    "\n",
    "# Visualisation\n",
    "sns.pairplot(df[['poids_kg', 'duree_min', 'vitesse_moyenne', 'distance_km', 'calories_brulees']])\n",
    "plt.suptitle(\"Pairplot des variables\", y=1.02)\n",
    "plt.show()\n",
    "\n",
    "sns.heatmap(df.corr(numeric_only=True), annot=True, cmap='coolwarm')\n",
    "plt.title(\"Corrélation entre variables\")\n",
    "plt.show()"
   ]
  }
 ],
 "metadata": {
  "kernelspec": {
   "display_name": "calories_ml",
   "language": "python",
   "name": "python3"
  },
  "language_info": {
   "name": "python",
   "version": "3.10.16"
  }
 },
 "nbformat": 4,
 "nbformat_minor": 2
}
