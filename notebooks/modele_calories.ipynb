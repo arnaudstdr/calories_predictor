{
 "cells": [
  {
   "cell_type": "markdown",
   "metadata": {},
   "source": [
    "# Entraînement des modèles de régression (LinearRegression et RandomForestRegressor)\n",
    "\n",
    "## Tables des matières\n",
    "\n",
    "### 1. Import des librairies\n",
    "Import des bibliothèques nécessaires pour la modélisation, l'évaluation et la sauvegarde du modèle"
   ]
  },
  {
   "cell_type": "code",
   "execution_count": 13,
   "metadata": {},
   "outputs": [],
   "source": [
    "import pandas as pd\n",
    "import numpy as np\n",
    "from sklearn.model_selection import train_test_split\n",
    "from sklearn.linear_model import LinearRegression\n",
    "from sklearn.ensemble import RandomForestRegressor\n",
    "from sklearn.metrics import mean_absolute_error, mean_squared_error\n",
    "import joblib\n",
    "import matplotlib.pyplot as plt"
   ]
  },
  {
   "cell_type": "markdown",
   "metadata": {},
   "source": [
    "### 2. Chargement des données\n",
    "Chargement du dataset synthétique généré précédemment"
   ]
  },
  {
   "cell_type": "code",
   "execution_count": 14,
   "metadata": {},
   "outputs": [
    {
     "data": {
      "text/html": [
       "<div>\n",
       "<style scoped>\n",
       "    .dataframe tbody tr th:only-of-type {\n",
       "        vertical-align: middle;\n",
       "    }\n",
       "\n",
       "    .dataframe tbody tr th {\n",
       "        vertical-align: top;\n",
       "    }\n",
       "\n",
       "    .dataframe thead th {\n",
       "        text-align: right;\n",
       "    }\n",
       "</style>\n",
       "<table border=\"1\" class=\"dataframe\">\n",
       "  <thead>\n",
       "    <tr style=\"text-align: right;\">\n",
       "      <th></th>\n",
       "      <th>poids_kg</th>\n",
       "      <th>duree_min</th>\n",
       "      <th>vitesse_moyenne</th>\n",
       "      <th>distance_km</th>\n",
       "      <th>intensite</th>\n",
       "      <th>age</th>\n",
       "      <th>fc_max</th>\n",
       "      <th>fc_moyenne</th>\n",
       "      <th>calories_brulees</th>\n",
       "    </tr>\n",
       "  </thead>\n",
       "  <tbody>\n",
       "    <tr>\n",
       "      <th>0</th>\n",
       "      <td>71.907909</td>\n",
       "      <td>85.641151</td>\n",
       "      <td>26.898553</td>\n",
       "      <td>38.393717</td>\n",
       "      <td>rythme</td>\n",
       "      <td>47</td>\n",
       "      <td>173</td>\n",
       "      <td>128.270619</td>\n",
       "      <td>115.345056</td>\n",
       "    </tr>\n",
       "    <tr>\n",
       "      <th>1</th>\n",
       "      <td>67.478436</td>\n",
       "      <td>165.291030</td>\n",
       "      <td>33.753054</td>\n",
       "      <td>92.984617</td>\n",
       "      <td>endurance</td>\n",
       "      <td>26</td>\n",
       "      <td>194</td>\n",
       "      <td>115.791065</td>\n",
       "      <td>200.961855</td>\n",
       "    </tr>\n",
       "    <tr>\n",
       "      <th>2</th>\n",
       "      <td>78.191745</td>\n",
       "      <td>151.004028</td>\n",
       "      <td>23.874499</td>\n",
       "      <td>60.085759</td>\n",
       "      <td>rythme</td>\n",
       "      <td>54</td>\n",
       "      <td>166</td>\n",
       "      <td>129.391600</td>\n",
       "      <td>205.155854</td>\n",
       "    </tr>\n",
       "    <tr>\n",
       "      <th>3</th>\n",
       "      <td>88.404504</td>\n",
       "      <td>177.728760</td>\n",
       "      <td>20.788146</td>\n",
       "      <td>61.577524</td>\n",
       "      <td>rythme</td>\n",
       "      <td>62</td>\n",
       "      <td>158</td>\n",
       "      <td>116.435234</td>\n",
       "      <td>217.285843</td>\n",
       "    </tr>\n",
       "    <tr>\n",
       "      <th>4</th>\n",
       "      <td>56.248275</td>\n",
       "      <td>143.137239</td>\n",
       "      <td>30.003314</td>\n",
       "      <td>71.576524</td>\n",
       "      <td>competition</td>\n",
       "      <td>39</td>\n",
       "      <td>181</td>\n",
       "      <td>173.427053</td>\n",
       "      <td>260.650630</td>\n",
       "    </tr>\n",
       "  </tbody>\n",
       "</table>\n",
       "</div>"
      ],
      "text/plain": [
       "    poids_kg   duree_min  vitesse_moyenne  distance_km    intensite  age  \\\n",
       "0  71.907909   85.641151        26.898553    38.393717       rythme   47   \n",
       "1  67.478436  165.291030        33.753054    92.984617    endurance   26   \n",
       "2  78.191745  151.004028        23.874499    60.085759       rythme   54   \n",
       "3  88.404504  177.728760        20.788146    61.577524       rythme   62   \n",
       "4  56.248275  143.137239        30.003314    71.576524  competition   39   \n",
       "\n",
       "   fc_max  fc_moyenne  calories_brulees  \n",
       "0     173  128.270619        115.345056  \n",
       "1     194  115.791065        200.961855  \n",
       "2     166  129.391600        205.155854  \n",
       "3     158  116.435234        217.285843  \n",
       "4     181  173.427053        260.650630  "
      ]
     },
     "execution_count": 14,
     "metadata": {},
     "output_type": "execute_result"
    }
   ],
   "source": [
    "df = pd.read_csv(\"../data/dataset_synthetique_calories.csv\")\n",
    "df.head()"
   ]
  },
  {
   "cell_type": "markdown",
   "metadata": {},
   "source": [
    "### 3. Préparation des features et de la cible\n",
    "Définition des variables explicatives (features) et de la varaible cible (calories brûlées)"
   ]
  },
  {
   "cell_type": "code",
   "execution_count": 15,
   "metadata": {},
   "outputs": [],
   "source": [
    "X = df[['poids_kg', 'duree_min', 'vitesse_moyenne', 'distance_km', 'fc_moyenne']]\n",
    "y = df['calories_brulees']"
   ]
  },
  {
   "cell_type": "markdown",
   "metadata": {},
   "source": [
    "### 4. Séparation des données en train/test\n",
    "Division du dataset en ensemble d'entraînement et de test (80% / 20%)"
   ]
  },
  {
   "cell_type": "code",
   "execution_count": 16,
   "metadata": {},
   "outputs": [],
   "source": [
    "X_train, X_test, y_train, y_test = train_test_split(X, y, test_size=0.2, random_state=42)"
   ]
  },
  {
   "cell_type": "markdown",
   "metadata": {},
   "source": [
    "### 5. Modèle de régression linéaire\n",
    "\n",
    "#### 5.1.1. Entraînement d'un modèle de régression linéaire simple"
   ]
  },
  {
   "cell_type": "code",
   "execution_count": 17,
   "metadata": {},
   "outputs": [],
   "source": [
    "lr = LinearRegression()\n",
    "lr.fit(X_train, y_train)\n",
    "\n",
    "# Prédiction sur l'ensemble de test\n",
    "y_pred_lr = lr.predict(X_test)"
   ]
  },
  {
   "cell_type": "markdown",
   "metadata": {},
   "source": [
    "#### 5.1.2. Évaluation du modèle linéaire\n",
    "Calcul des métriques d'erreur du modèle linéaire"
   ]
  },
  {
   "cell_type": "code",
   "execution_count": 18,
   "metadata": {},
   "outputs": [
    {
     "name": "stdout",
     "output_type": "stream",
     "text": [
      "Linear Regression - MAE :  8.945553244241282\n",
      "Linear Regression - RMSE :  12.54687595019814\n"
     ]
    }
   ],
   "source": [
    "print(\"Linear Regression - MAE : \", mean_absolute_error(y_test, y_pred_lr))\n",
    "print(\"Linear Regression - RMSE : \", np.sqrt(mean_squared_error(y_test, y_pred_lr)))"
   ]
  },
  {
   "cell_type": "markdown",
   "metadata": {},
   "source": [
    "#### 5.2.1. Modèle Random Forest\n",
    "Entraînement d'un modèle de forêt aléatoire (plus performant sur données non linéaires)"
   ]
  },
  {
   "cell_type": "code",
   "execution_count": 19,
   "metadata": {},
   "outputs": [],
   "source": [
    "rf = RandomForestRegressor(n_estimators=100, random_state=42)\n",
    "rf.fit(X_train, y_train)\n",
    "\n",
    "# Prédiction sur l'ensemble de test\n",
    "y_pred_rf = rf.predict(X_test)"
   ]
  },
  {
   "cell_type": "markdown",
   "metadata": {},
   "source": [
    "#### 5.2.2. Évaluation du modèle Random Forest\n",
    "Évaluation des performances de la forêt aléatoire"
   ]
  },
  {
   "cell_type": "code",
   "execution_count": 20,
   "metadata": {},
   "outputs": [
    {
     "name": "stdout",
     "output_type": "stream",
     "text": [
      "Random Forest - MAE :  3.4394170720563517\n",
      "Random Forest - RMSE :  4.976156041835261\n"
     ]
    }
   ],
   "source": [
    "print(\"Random Forest - MAE : \", mean_absolute_error(y_test, y_pred_rf))\n",
    "print(\"Random Forest - RMSE : \", np.sqrt(mean_squared_error(y_test, y_pred_rf)))"
   ]
  },
  {
   "cell_type": "code",
   "execution_count": 23,
   "metadata": {},
   "outputs": [
    {
     "name": "stdout",
     "output_type": "stream",
     "text": [
      "Train MAE : 1.6725473665331134\n",
      "Test MAE  : 3.4394170720563517\n"
     ]
    }
   ],
   "source": [
    "y_train_pred = rf.predict(X_train)\n",
    "print(\"Train MAE :\", mean_absolute_error(y_train, y_train_pred))\n",
    "print(\"Test MAE  :\", mean_absolute_error(y_test, y_pred_rf))"
   ]
  },
  {
   "cell_type": "markdown",
   "metadata": {},
   "source": [
    "Les erreurs sont divisé par 2 avec la Random Forest."
   ]
  },
  {
   "cell_type": "markdown",
   "metadata": {},
   "source": [
    "### 6. Visualisation des prédictions vs réel\n",
    "Visualisation de la corrélation enntre les valeurs prédictes et réelles"
   ]
  },
  {
   "cell_type": "code",
   "execution_count": 21,
   "metadata": {},
   "outputs": [
    {
     "data": {
      "image/png": "[encoded data removed]",
      "text/plain": [
       "<Figure size 600x600 with 1 Axes>"
      ]
     },
     "metadata": {},
     "output_type": "display_data"
    }
   ],
   "source": [
    "plt.figure(figsize=(6, 6))\n",
    "plt.scatter(y_test, y_pred_rf, alpha=0.5)\n",
    "plt.plot([y.min(), y.max()], [y.min(), y.max()], 'k--')\n",
    "plt.xlabel(\"Valeurs réelles\")\n",
    "plt.ylabel(\"Prédictiopns\")\n",
    "plt.title(\"Prédictions Random Forest vs Réalité\")\n",
    "plt.grid(True)\n",
    "plt.show()"
   ]
  },
  {
   "cell_type": "markdown",
   "metadata": {},
   "source": [
    "- **La courbe scatter** montre que les points sont bien alignés sur la diagonale -> le modèle **généralise bien**, sans oberfit apparent.\n",
    "- Il y a une légère dispersion au-delà de 2200 kcal, **ce qui est normal** : les très longues sorties sont plus rares."
   ]
  },
  {
   "cell_type": "markdown",
   "metadata": {},
   "source": [
    "### 7. Sauvegarde du modèle entraîné\n",
    "Sauvegarde du modèle entraîné pour un futur usage dans une app web"
   ]
  },
  {
   "cell_type": "code",
   "execution_count": 22,
   "metadata": {},
   "outputs": [
    {
     "data": {
      "text/plain": [
       "['../app/model_calories.pkl']"
      ]
     },
     "execution_count": 22,
     "metadata": {},
     "output_type": "execute_result"
    }
   ],
   "source": [
    "joblib.dump(rf, \"../app/model_calories.pkl\") "
   ]
  }
 ],
 "metadata": {
  "kernelspec": {
   "display_name": "calories_ml",
   "language": "python",
   "name": "python3"
  },
  "language_info": {
   "codemirror_mode": {
    "name": "ipython",
    "version": 3
   },
   "file_extension": ".py",
   "mimetype": "text/x-python",
   "name": "python",
   "nbconvert_exporter": "python",
   "pygments_lexer": "ipython3",
   "version": "3.10.16"
  }
 },
 "nbformat": 4,
 "nbformat_minor": 2
}
